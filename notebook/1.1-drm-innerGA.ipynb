{
 "cells": [
  {
   "cell_type": "code",
   "execution_count": null,
   "outputs": [],
   "source": [
    "import numpy as np\n",
    "from numpy.random import randint, uniform, choice, random"
   ],
   "metadata": {
    "collapsed": false
   },
   "id": "20501a667f278a72"
  },
  {
   "cell_type": "code",
   "execution_count": null,
   "id": "initial_id",
   "metadata": {
    "collapsed": true
   },
   "outputs": [],
   "source": [
    "def generate_population(size: int, capacity: list):\n",
    "    population = []\n",
    "    for _ in range(size):\n",
    "        population.append([uniform(1, x*0.95) for x in capacity])\n",
    "    return np.array(population)"
   ]
  },
  {
   "cell_type": "code",
   "execution_count": null,
   "outputs": [],
   "source": [
    "def fitness_inga(capacity: np.array, flow: np.array):\n",
    "\n",
    "    if (flow > (capacity * 0.95)).any():\n",
    "        return 0\n",
    "\n",
    "    sigma = flow.sum()\n",
    "    temp = (flow/(capacity-flow)).sum()\n",
    "    T = temp/sigma\n",
    "    return 1/T\n",
    "\n",
    "def gautil(flow: np.array, capacity: np.array):\n",
    "    return flow/capacity\n"
   ],
   "metadata": {
    "collapsed": false
   },
   "id": "afd09470c365d8fd"
  },
  {
   "cell_type": "code",
   "execution_count": null,
   "outputs": [],
   "source": [
    "def tournament_selection(size: int, pop: np.array, fitness: np.array, k=5):\n",
    "\n",
    "    index = []\n",
    "    population = list(pop)\n",
    "    select = []\n",
    "    for _ in range(size):\n",
    "        selection_ix = randint(len(population))\n",
    "        for ix in np.random.randint(0, len(population), k-1):\n",
    "            if fitness[ix] > fitness[selection_ix]:\n",
    "                selection_ix = ix\n",
    "        select.append(population.pop(selection_ix))\n",
    "        index.append(selection_ix)\n",
    "\n",
    "    return np.array(select), np.array(index)"
   ],
   "metadata": {
    "collapsed": false
   },
   "id": "f8774875839aed2"
  },
  {
   "cell_type": "code",
   "execution_count": null,
   "outputs": [],
   "source": [
    "def scatter_crossover(parent1: np.array, parent2: np.array, alpha: int, indpb = 0.8):\n",
    "    if random() > indpb:\n",
    "        return False\n",
    "\n",
    "    c1 = np.copy(parent1)\n",
    "    c2 = np.copy(parent2)\n",
    "\n",
    "    n_genes = len(parent1)\n",
    "    scatter_point = np.random.choice(n_genes, size=int(alpha * n_genes), replace=False)\n",
    "\n",
    "    for i in scatter_point:\n",
    "        c1[i] = parent2[i]\n",
    "        c2[i] = parent1[i]\n",
    "\n",
    "    return c1, c2"
   ],
   "metadata": {
    "collapsed": false
   },
   "id": "c60e333bb95a373a"
  },
  {
   "cell_type": "code",
   "execution_count": 1,
   "outputs": [],
   "source": [
    "from deap.tools import mutGaussian\n",
    "\n",
    "def innerga(size=10, generasi=100, capacity=None, alpha=0.5, pMu=0.2, pCr=0.8):\n",
    "    pop = generate_population(size, capacity)\n",
    "\n",
    "    for gen in range(generasi):\n",
    "        fitness = np.array([fitness_inga(capacity=capacity, flow=ind) for ind in pop])\n",
    "\n",
    "        selected, _ = tournament_selection(size=size,pop=pop, fitness=fitness)\n",
    "\n",
    "        sh = selected[0].shape[0]\n",
    "        offspring = np.empty((0, sh))\n",
    "\n",
    "        for p1, p2 in zip(selected[::2], selected[1::2]):\n",
    "            if cross := scatter_crossover(alpha=alpha, parent1=p1, parent2=p2, indpb=pCr):\n",
    "                c1, c2 = cross\n",
    "                offspring = np.append(offspring, c1.reshape(1, sh), axis=0)\n",
    "                offspring = np.append(offspring, c2.reshape(1, sh), axis=0)\n",
    "            else:\n",
    "                offspring = np.append(offspring, p1.reshape(1, sh), axis=0)\n",
    "                offspring = np.append(offspring, p2.reshape(1, sh), axis=0)\n",
    "\n",
    "        for m in offspring:\n",
    "            mut = mutGaussian(m, 0, 1, pMu)[0]\n",
    "            offspring = np.append(offspring, mut.reshape(1, sh), axis=0)\n",
    "\n",
    "        pop = offspring\n",
    "\n",
    "    return pop, np.array([fitness_inga(capacity=capacity, flow=ind) for ind in pop])\n"
   ],
   "metadata": {
    "collapsed": false,
    "ExecuteTime": {
     "end_time": "2023-12-07T13:36:37.873717896Z",
     "start_time": "2023-12-07T13:36:37.831204469Z"
    }
   },
   "id": "b8d7aa8ae6dfd696"
  }
 ],
 "metadata": {
  "kernelspec": {
   "display_name": "Python 3",
   "language": "python",
   "name": "python3"
  },
  "language_info": {
   "codemirror_mode": {
    "name": "ipython",
    "version": 2
   },
   "file_extension": ".py",
   "mimetype": "text/x-python",
   "name": "python",
   "nbconvert_exporter": "python",
   "pygments_lexer": "ipython2",
   "version": "2.7.6"
  }
 },
 "nbformat": 4,
 "nbformat_minor": 5
}
