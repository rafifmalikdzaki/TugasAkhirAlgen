{
 "cells": [
  {
   "cell_type": "code",
   "execution_count": 184,
   "id": "initial_id",
   "metadata": {
    "collapsed": true,
    "ExecuteTime": {
     "end_time": "2023-12-07T13:54:05.861898643Z",
     "start_time": "2023-12-07T13:54:05.820912634Z"
    }
   },
   "outputs": [],
   "source": [
    "import networkx as nx\n",
    "import numpy as np\n",
    "from matplotlib import pyplot as plt\n",
    "from functools import partial\n",
    "\n",
    "def filter_edge(capacity, g):\n",
    "    graph = nx.to_networkx_graph(g).edges()\n",
    "    def filter_func(pair, graph):\n",
    "        ed = set(graph)\n",
    "        k, _ = pair\n",
    "        if k in ed:\n",
    "            return True\n",
    "        else:\n",
    "            return False\n",
    "    filter_f = partial(filter_func, graph=graph)\n",
    "    return dict(filter(filter_f, capacity.items()))\n",
    "\n",
    "def generate_graph(size=10, nodes=10, edges=20, capacity=None):\n",
    "\n",
    "    if capacity is None:\n",
    "        capacity = {}\n",
    "        G = nx.complete_graph(nodes)\n",
    "        for edge in G.edges:\n",
    "            capacity[edge] =  randint(60, 300)\n",
    "    graph = np.array([nx.to_numpy_array(nx.gnm_random_graph(n=nodes, m=edges)) for _ in range(size)])\n",
    "    graph_cap = np.array([list(filter_edge(capacity, G).values()) for G in graph])\n",
    "    return graph, graph_cap, capacity"
   ]
  },
  {
   "cell_type": "code",
   "execution_count": null,
   "outputs": [],
   "source": [
    "from numpy.random import choice, randint, random\n",
    "\n",
    "def clone_ind(size, pCl):\n",
    "    idx = choice(a=size, size = int(np.ceil(pCl*size)), replace=False)\n",
    "    return idx"
   ],
   "metadata": {
    "collapsed": false
   },
   "id": "629b4db00a1cb3d4"
  },
  {
   "cell_type": "code",
   "execution_count": null,
   "outputs": [],
   "source": [
    "\n",
    "def mutate_outga(individual, global_cap, pMu=0.2):\n",
    "    if random() > pMu:\n",
    "        return False\n",
    "    G = nx.to_networkx_graph(individual)\n",
    "    edges = list(G.edges())\n",
    "    n_nodes = G.number_of_nodes()\n",
    "    edge = edges[choice(a=len(edges))]\n",
    "    s, t = edge\n",
    "    exclusion = [s, t]\n",
    "    source = choice(exclusion)\n",
    "    for s, t in edges:\n",
    "        if s == source:\n",
    "            exclusion.append(t)\n",
    "        elif t == source:\n",
    "            exclusion.append(s)\n",
    "\n",
    "    i = choice(a=[i for i in range(n_nodes) if i not in exclusion ])\n",
    "    ind = individual.copy()\n",
    "    ind[s][t] = 0\n",
    "    ind[t][s] = 0\n",
    "\n",
    "    ind[source][i] = 1\n",
    "    ind[i][source] = 1\n",
    "\n",
    "    if not nx.is_connected(nx.to_networkx_graph(ind)):\n",
    "        return False\n",
    "\n",
    "    graph_cap = np.array([list(filter_edge(global_cap, ind).values())])\n",
    "\n",
    "    return ind, graph_cap\n"
   ],
   "metadata": {
    "collapsed": false
   },
   "id": "8d7e7019fe53da16"
  },
  {
   "cell_type": "code",
   "execution_count": null,
   "outputs": [],
   "source": [
    "\n",
    "def crossover_outga(parent1, parent2, global_cap, edge_size,pCr=0.8):\n",
    "    def connectivity_fix(matrix):\n",
    "        G = nx.to_networkx_graph(matrix)\n",
    "        edges = np.array(G.edges())\n",
    "        iterations = 0\n",
    "        while iterations < 100:\n",
    "            # print(iterations)\n",
    "            adjMatrix = matrix.copy()\n",
    "            edge = edges[choice(a=len(edges), size=nr_edge,replace=False)]\n",
    "            for s, t in edge:\n",
    "                adjMatrix[s][t] = 0\n",
    "                adjMatrix[t][s] = 0\n",
    "\n",
    "            if nx.is_connected(nx.to_networkx_graph(adjMatrix)):\n",
    "                return True, adjMatrix\n",
    "            else:\n",
    "                iterations += 1\n",
    "\n",
    "        return False\n",
    "\n",
    "    if random() > pCr:\n",
    "        return False\n",
    "    p1, p2 = parent1.copy(), parent2.copy()\n",
    "    chrom_len = len(p1)\n",
    "    temp = (p1 + p2) / 2\n",
    "\n",
    "    redundant = np.floor(temp)\n",
    "    new_pair = np.ceil(temp - redundant)\n",
    "    total_pair = redundant + new_pair\n",
    "\n",
    "    redundant_sum = redundant.sum()/2\n",
    "    np_sum = new_pair.sum()/2\n",
    "    current_sum = redundant_sum + np_sum\n",
    "\n",
    "    final_top = total_pair\n",
    "    if current_sum > edge_size:\n",
    "        nr_edge = int(current_sum - edge_size)\n",
    "        if nr_edge == redundant_sum:\n",
    "            if nx.is_connected(nx.to_networkx_graph(new_pair)):\n",
    "                final_top = new_pair\n",
    "            else:\n",
    "                return False\n",
    "        elif nr_edge < redundant_sum:\n",
    "            if matrix := connectivity_fix(redundant):\n",
    "                final_top = matrix[1] + new_pair\n",
    "            else:\n",
    "                return False\n",
    "        elif nr_edge > redundant_sum:\n",
    "            if matrix := connectivity_fix(total_pair):\n",
    "                final_top = matrix[1]\n",
    "            else:\n",
    "                return False\n",
    "\n",
    "    graph_cap = np.array([list(filter_edge(global_cap, final_top).values())])\n",
    "\n",
    "    return final_top, graph_cap\n"
   ],
   "metadata": {
    "collapsed": false
   },
   "id": "8ca6c16f569d4a29"
  },
  {
   "cell_type": "code",
   "execution_count": 165,
   "outputs": [],
   "source": [
    "def fitness_outga(individual, flow):\n",
    "    G = nx.to_networkx_graph(individual)\n",
    "    min_val, max_val = np.min(flow), np.max(flow)\n",
    "    scaled = (flow - min_val) / (max_val - min_val)\n",
    "    for (i, (u,v)) in enumerate(G.edges):\n",
    "        G[u][v]['flow'] = scaled[i]\n",
    "    T = nx.average_shortest_path_length(G, weight=\"flow\", method='dijkstra')\n",
    "    return 1/T\n",
    "    "
   ],
   "metadata": {
    "collapsed": false,
    "ExecuteTime": {
     "end_time": "2023-12-07T11:34:40.989215025Z",
     "start_time": "2023-12-07T11:34:40.985624752Z"
    }
   },
   "id": "be2dbb61aecccb6d"
  },
  {
   "cell_type": "code",
   "execution_count": null,
   "outputs": [],
   "source": [
    "\n",
    "def elitism_selection(size: int, population, fitness: np.array):\n",
    "    strongest = np.argsort(fitness)[::-1][:size]\n",
    "    return population[strongest], strongest\n"
   ],
   "metadata": {
    "collapsed": false
   },
   "id": "2f740691dd30e9d9"
  },
  {
   "cell_type": "code",
   "execution_count": null,
   "outputs": [],
   "source": [
    "def outerga(size=15, nodes=10, edges=20, generasi=100, capacity=None, pCl=0.4, pMu=0.2, pCr=0.8, innerGAsize=50, innerGAgen=100):\n",
    "    pop, pop_cap, global_cap = generate_graph(size=size, nodes=nodes, edges=edges)\n",
    "\n",
    "    # inner Ga\n",
    "    def get_maxFlow(capacity):\n",
    "        pop, fit = innerga(size=innerGAsize, generasi=innerGAgen, capacity=capacity)\n",
    "        fittest = np.argmax(fit)\n",
    "        flow = pop[fittest]\n",
    "        return flow\n",
    "\n",
    "    for gen in range(generasi):\n",
    "        print(gen)\n",
    "        pop_flow = np.array([get_maxFlow(ind_cap) for ind_cap in pop_cap])\n",
    "\n",
    "        fitness = np.array([fitness_outga(individual=ind, flow=ind_flow) for ind, ind_flow in zip(pop, pop_flow)])\n",
    "\n",
    "        nMu = int(np.ceil(size * pMu))\n",
    "        nCr = int(np.ceil(size * pCr))\n",
    "        total_select = nMu + nCr\n",
    "\n",
    "        selected, _ = elitism_selection(size=total_select,population=pop, fitness=fitness)\n",
    "        idx = clone_ind(size=size, pCl=pCl)\n",
    "        offspring = np.array(pop[idx].reshape((-1, nodes,nodes)))\n",
    "        offspring_cap = np.array(pop_cap[idx].reshape((-1, edges)))\n",
    "\n",
    "\n",
    "        for p1, p2 in zip(selected[:nCr:2], selected[1:nCr:2]):\n",
    "            if cross := crossover_outga(parent1=p1, parent2=p2,global_cap=global_cap,edge_size=edges, pCr=1):\n",
    "                child, child_cap = cross\n",
    "                offspring = np.append(offspring,child.reshape(1, nodes,nodes), axis=0)\n",
    "                offspring_cap = np.append(offspring_cap, child_cap.reshape(1, edges), axis=0)\n",
    "                print(\"C_cross\", nx.is_connected(nx.to_networkx_graph(child)))\n",
    "            else:\n",
    "                print(\"C_Norm\", nx.is_connected(nx.to_networkx_graph(p1)))\n",
    "                graph_cap = np.array([list(filter_edge(global_cap, p1).values())])\n",
    "                offspring = np.append(offspring,p1.reshape(1, nodes,nodes), axis=0)\n",
    "                offspring_cap = np.append(offspring_cap, graph_cap.reshape(1, edges), axis=0)\n",
    "\n",
    "\n",
    "        for m in selected[nCr:]:\n",
    "            if mutant := mutate_outga(individual=m, global_cap=global_cap,pMu=1):\n",
    "                mut, mut_cap = mutant\n",
    "                print(\"M_mut\", nx.is_connected(nx.to_networkx_graph(mut)))\n",
    "                offspring = np.append(offspring, mut.reshape((1, nodes,nodes)), axis=0)\n",
    "                offspring_cap = np.append(offspring_cap, mut_cap.reshape(1, edges), axis=0)\n",
    "            else:\n",
    "                print(\"M_norm\",nx.is_connected(nx.to_networkx_graph(m)))\n",
    "                graph_cap = np.array([list(filter_edge(global_cap, m).values())])\n",
    "                offspring = np.append(offspring,m.reshape(1, nodes,nodes), axis=0)\n",
    "                offspring_cap = np.append(offspring_cap, graph_cap.reshape(1, edges), axis=0)\n",
    "\n",
    "        pop = offspring\n",
    "        pop_cap = offspring_cap\n",
    "\n",
    "    last_flow = np.array([get_maxFlow(ind_cap) for ind_cap in pop_cap])\n",
    "    return pop, np.array([fitness_outga(individual=ind, flow=ind_flow) for ind, ind_flow in zip(pop, last_flow)])\n"
   ],
   "metadata": {
    "collapsed": false
   },
   "id": "a71e681531cfed26"
  }
 ],
 "metadata": {
  "kernelspec": {
   "display_name": "Python 3",
   "language": "python",
   "name": "python3"
  },
  "language_info": {
   "codemirror_mode": {
    "name": "ipython",
    "version": 2
   },
   "file_extension": ".py",
   "mimetype": "text/x-python",
   "name": "python",
   "nbconvert_exporter": "python",
   "pygments_lexer": "ipython2",
   "version": "2.7.6"
  }
 },
 "nbformat": 4,
 "nbformat_minor": 5
}
