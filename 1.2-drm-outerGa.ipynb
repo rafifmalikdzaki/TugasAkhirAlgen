{
 "cells": [
  {
   "cell_type": "code",
   "execution_count": 183,
   "id": "initial_id",
   "metadata": {
    "collapsed": true,
    "ExecuteTime": {
     "end_time": "2023-12-07T12:24:45.284983080Z",
     "start_time": "2023-12-07T12:24:45.279296967Z"
    }
   },
   "outputs": [],
   "source": [
    "import networkx as nx\n",
    "import numpy as np\n",
    "from matplotlib import pyplot as plt\n",
    "from functools import partial\n",
    "\n",
    "def generate_graph(size=10, nodes=10, edges=20, capacity=None):\n",
    "    def filter_edge(capacity, g):\n",
    "        graph = nx.to_networkx_graph(g).edges()\n",
    "        def filter_func(pair, graph):\n",
    "            ed = set(graph)\n",
    "            k, _ = pair\n",
    "            if k in ed:\n",
    "                return True\n",
    "            else:\n",
    "                return False\n",
    "        filter_f = partial(filter_func, graph=graph)\n",
    "        return dict(filter(filter_f, capacity.items()))\n",
    "\n",
    "    if capacity is None:\n",
    "        capacity = {}\n",
    "        G = nx.complete_graph(nodes)\n",
    "        for edge in G.edges:\n",
    "            capacity[edge] =  randint(60, 300)\n",
    "    graph = np.array([nx.to_numpy_array(nx.gnm_random_graph(n=nodes, m=edges)) for _ in range(size)])\n",
    "    graph_cap = np.array([list(filter_edge(capacity, G).values()) for G in graph])\n",
    "    return graph, graph_cap"
   ]
  },
  {
   "cell_type": "code",
   "execution_count": null,
   "outputs": [],
   "source": [
    "from numpy.random import choice, randint, random\n",
    "\n",
    "def clone_ind(size, population, pCl):\n",
    "    idx = choice(a=size, size = int(np.ceil(pCl*size)), replace=False)\n",
    "    return idx"
   ],
   "metadata": {
    "collapsed": false
   },
   "id": "629b4db00a1cb3d4"
  },
  {
   "cell_type": "code",
   "execution_count": null,
   "outputs": [],
   "source": [
    "def mutate_outga(individual, pMu=0.2):\n",
    "    if random() > pMu:\n",
    "        return individual\n",
    "    G = nx.to_networkx_graph(individual)\n",
    "    edges = list(G.edges())\n",
    "    n_nodes = G.number_of_nodes()\n",
    "    edge = edges[choice(a=len(edges))]\n",
    "    s, t = edge\n",
    "    exclusion = [s, t]\n",
    "    source = choice(exclusion)\n",
    "    for s, t in edges:\n",
    "        if s == source:\n",
    "            exclusion.append(t)\n",
    "        elif t == source:\n",
    "            exclusion.append(s)\n",
    "\n",
    "    i = choice(a=[i for i in range(n_nodes) if i not in exclusion ])\n",
    "    ind = individual.copy()\n",
    "    ind[s][t] = 0\n",
    "    ind[t][s] = 0\n",
    "\n",
    "    ind[source][i] = 1\n",
    "    ind[i][source] = 1\n",
    "\n",
    "    return ind\n"
   ],
   "metadata": {
    "collapsed": false
   },
   "id": "8c473f4493436e23"
  },
  {
   "cell_type": "code",
   "execution_count": null,
   "outputs": [],
   "source": [
    "def crossover_outga(parent1, parent2, edge_size,pCr=0.8):\n",
    "    if random() > pCr:\n",
    "        return False\n",
    "    p1, p2 = parent1.copy(), parent2.copy()\n",
    "    chrom_len = len(p1)\n",
    "    temp = (p1 + p2) / 2\n",
    "\n",
    "    redundant = np.floor(temp)\n",
    "    new_pair = np.ceil(temp - redundant)\n",
    "    total_pair = redundant + new_pair\n",
    "\n",
    "    redundant_sum = redundant.sum()/2\n",
    "    np_sum = new_pair.sum()/2\n",
    "    current_sum = redundant_sum + np_sum\n",
    "\n",
    "    if current_sum > edge_size:\n",
    "        nr_edge = int(current_sum - edge_size)\n",
    "        if nr_edge == redundant_sum:\n",
    "            return new_pair\n",
    "        elif nr_edge < redundant_sum:\n",
    "            G = nx.to_networkx_graph(redundant)\n",
    "            edges = np.array(G.edges())\n",
    "            print(nr_edge)\n",
    "            edge = edges[choice(a=len(edges), size=nr_edge,replace=False)]\n",
    "            for s, t in edge:\n",
    "                redundant[s][t] = 0\n",
    "                redundant[t][s] = 0\n",
    "            return redundant + new_pair\n",
    "        elif nr_edge > redundant_sum:\n",
    "            G = nx.to_networkx_graph(total_pair)\n",
    "            edges = np.array(G.edges())\n",
    "            edge = edges[choice(a=len(edges), size=nr_edge,replace=False)]\n",
    "            for s, t in edge:\n",
    "                total_pair[s][t] = 0\n",
    "                total_pair[t][s] = 0\n",
    "            return total_pair\n"
   ],
   "metadata": {
    "collapsed": false
   },
   "id": "68327d7c1d5ab2c9"
  },
  {
   "cell_type": "code",
   "execution_count": 165,
   "outputs": [],
   "source": [
    "def fitness_outga(individual, flow):\n",
    "    G = nx.to_networkx_graph(individual)\n",
    "    min_val, max_val = np.min(flow), np.max(flow)\n",
    "    scaled = (flow - min_val) / (max_val - min_val)\n",
    "    for (i, (u,v)) in enumerate(G.edges):\n",
    "        G[u][v]['flow'] = scaled[i]\n",
    "    T = nx.average_shortest_path_length(G, weight=\"flow\", method='dijkstra')\n",
    "    return 1/T\n",
    "    "
   ],
   "metadata": {
    "collapsed": false,
    "ExecuteTime": {
     "end_time": "2023-12-07T11:34:40.989215025Z",
     "start_time": "2023-12-07T11:34:40.985624752Z"
    }
   },
   "id": "be2dbb61aecccb6d"
  },
  {
   "cell_type": "code",
   "execution_count": null,
   "outputs": [],
   "source": [
    "def tournament_selection(size: int, pop: np.array, fitness: np.array, k=5):\n",
    "\n",
    "    index = []\n",
    "    population = list(pop)\n",
    "    select = []\n",
    "    for _ in range(size):\n",
    "        selection_ix = randint(len(population))\n",
    "        for ix in np.random.randint(0, len(population), k-1):\n",
    "            if fitness[ix] > fitness[selection_ix]:\n",
    "                selection_ix = ix\n",
    "        select.append(population.pop(selection_ix))\n",
    "        index.append(selection_ix)\n",
    "\n",
    "    return np.array(select), np.array(index)"
   ],
   "metadata": {
    "collapsed": false
   },
   "id": "9b878a9047598184"
  },
  {
   "cell_type": "code",
   "execution_count": 180,
   "outputs": [],
   "source": [
    "flow = [225.60893090881635, 31.14703832125048, 69.67571471085778, 69.97231021118779, 128.34167952772043, 304.0239049986733, 133.50762482856462, 124.78672295159305, 52.10243245710136, 54.85662776475171, 43.9049797566212, 135.37255182191663, 88.7276133744623, 55.84638578480374, 96.94228446751892, 50.50591520227935, 123.34045189153773, 46.062823976262045, 22.287162849768496, 99.8143759994609]\n",
    "path = generate_graph()[0]"
   ],
   "metadata": {
    "collapsed": false,
    "ExecuteTime": {
     "end_time": "2023-12-07T11:34:52.537973549Z",
     "start_time": "2023-12-07T11:34:52.534364230Z"
    }
   },
   "id": "93a54d35c4a93201"
  },
  {
   "cell_type": "code",
   "execution_count": null,
   "outputs": [],
   "source": [],
   "metadata": {
    "collapsed": false
   },
   "id": "122eaa6e873fe173"
  },
  {
   "cell_type": "code",
   "execution_count": 181,
   "outputs": [
    {
     "data": {
      "text/plain": "3.9459579068172013"
     },
     "execution_count": 181,
     "metadata": {},
     "output_type": "execute_result"
    }
   ],
   "source": [
    "fitness_outga(path, flow)"
   ],
   "metadata": {
    "collapsed": false,
    "ExecuteTime": {
     "end_time": "2023-12-07T11:34:52.820070217Z",
     "start_time": "2023-12-07T11:34:52.815574901Z"
    }
   },
   "id": "6e742f42878e6af7"
  }
 ],
 "metadata": {
  "kernelspec": {
   "display_name": "Python 3",
   "language": "python",
   "name": "python3"
  },
  "language_info": {
   "codemirror_mode": {
    "name": "ipython",
    "version": 2
   },
   "file_extension": ".py",
   "mimetype": "text/x-python",
   "name": "python",
   "nbconvert_exporter": "python",
   "pygments_lexer": "ipython2",
   "version": "2.7.6"
  }
 },
 "nbformat": 4,
 "nbformat_minor": 5
}
