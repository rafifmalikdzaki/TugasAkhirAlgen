{
 "cells": [
  {
   "cell_type": "code",
   "execution_count": null,
   "outputs": [],
   "source": [
    "import numpy as np\n",
    "from numpy.random import randint, uniform, choice"
   ],
   "metadata": {
    "collapsed": false
   },
   "id": "20501a667f278a72"
  },
  {
   "cell_type": "code",
   "execution_count": null,
   "id": "initial_id",
   "metadata": {
    "collapsed": true
   },
   "outputs": [],
   "source": [
    "def generate_population(size: int, capacity: list):\n",
    "    population = []\n",
    "    for _ in range(size):\n",
    "        population.append([uniform(1, x*0.95) for x in capacity])\n",
    "    return np.array(population)"
   ]
  },
  {
   "cell_type": "code",
   "execution_count": null,
   "outputs": [],
   "source": [
    "def fitness_inga(capacity: np.array, flow: np.array):\n",
    "    sigma = flow.sum()\n",
    "    temp = (flow/(capacity-flow)).sum()\n",
    "    T = temp/sigma\n",
    "    return 1/T\n",
    "\n",
    "def gautil(flow: np.array, capacity: np.array):\n",
    "    return flow/capacity\n"
   ],
   "metadata": {
    "collapsed": false
   },
   "id": "ddd269c5c0a27566"
  },
  {
   "cell_type": "code",
   "execution_count": null,
   "outputs": [],
   "source": [
    "def tournament_selection(size: int, pop: np.array, fitness: np.array, k=5):\n",
    "    population = list(pop)\n",
    "    select = []\n",
    "    for _ in range(size):\n",
    "        selection_ix = randint(len(population))\n",
    "        for ix in np.random.randint(0, len(population), k-1):\n",
    "            if fitness[ix] > fitness[selection_ix]:\n",
    "                selection_ix = ix\n",
    "        select.append(population.pop(selection_ix))\n",
    "    return np.array(select)"
   ],
   "metadata": {
    "collapsed": false
   },
   "id": "342ffb6fd245a405"
  },
  {
   "cell_type": "code",
   "execution_count": null,
   "outputs": [],
   "source": [
    "def scatter_crossover(parent1: np.array, parent2: np.array, alpha: int):\n",
    "    c1 = np.copy(parent1)\n",
    "    c2 = np.copy(parent2)\n",
    "\n",
    "    n_genes = len(parent1)\n",
    "    scatter_point = choice(n_genes, size=int(alpha * n_genes), replace=False)\n",
    "\n",
    "    for i in scatter_point:\n",
    "        c1[i] = parent2[i]\n",
    "        c2[i] = parent1[i]\n",
    "\n",
    "    return c1, c2"
   ],
   "metadata": {
    "collapsed": false
   },
   "id": "d8e3829a1e801a44"
  },
  {
   "cell_type": "code",
   "execution_count": null,
   "outputs": [],
   "source": [
    "def innerga(size=10, generasi=100, capacity=None, alpha=0.5, pMu=0.2, pCr=0.8):\n",
    "    pop = generate_population(size, capacity)\n",
    "    # print(pop)\n",
    "\n",
    "    for gen in range(generasi):\n",
    "        fitness = np.array([fitness_inga(capacity=capacity, flow=ind) for ind in pop])\n",
    "\n",
    "        selected = tournament_selection(size=size,pop=pop, fitness=fitness)\n",
    "\n",
    "        offspring = []\n",
    "        for p1, p2 in zip(selected[::2], selected[1::2]):\n",
    "            if cross := scatter_crossover(alpha=alpha, parent1=p1, parent2=p2, indpb=pCr):\n",
    "                c1, c2 = cross\n",
    "                offspring.append(c1)\n",
    "                offspring.append(c2)\n",
    "            else:\n",
    "                offspring.append(p1)\n",
    "                offspring.append(p2)\n",
    "\n",
    "        for m in list(offspring):\n",
    "            mut = mutGaussian(m, 0, 1, pMu)\n",
    "            offspring.append(mut)\n",
    "\n",
    "    return pop, np.array([fitness_inga(capacity=capacity, flow=ind) for ind in pop])\n"
   ],
   "metadata": {
    "collapsed": false
   },
   "id": "f876e10ddebaf45d"
  }
 ],
 "metadata": {
  "kernelspec": {
   "display_name": "Python 3",
   "language": "python",
   "name": "python3"
  },
  "language_info": {
   "codemirror_mode": {
    "name": "ipython",
    "version": 2
   },
   "file_extension": ".py",
   "mimetype": "text/x-python",
   "name": "python",
   "nbconvert_exporter": "python",
   "pygments_lexer": "ipython2",
   "version": "2.7.6"
  }
 },
 "nbformat": 4,
 "nbformat_minor": 5
}
